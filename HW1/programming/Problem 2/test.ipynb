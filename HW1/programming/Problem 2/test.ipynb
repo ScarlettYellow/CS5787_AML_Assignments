{
 "cells": [
  {
   "cell_type": "code",
   "execution_count": 1,
   "metadata": {},
   "outputs": [
    {
     "name": "stdout",
     "output_type": "stream",
     "text": [
      "{'this': 11, 'is': 4, 'the': 9, 'first': 2, 'document': 1, 'second': 8, 'and': 0, 'third': 10, 'one': 7, 'name': 6, 'hello': 3, 'my': 5}\n",
      "(5, 12)\n",
      "<class 'scipy.sparse.csr.csr_matrix'>\n",
      "['and', 'document', 'first', 'hello', 'is', 'my', 'name', 'one', 'second', 'the', 'third', 'this']\n",
      "[[0 1 1 0 1 0 0 0 0 1 0 1]\n",
      " [0 1 0 0 1 0 0 0 1 1 0 1]\n",
      " [1 0 0 0 0 0 1 1 0 1 1 0]\n",
      " [0 1 1 0 1 0 0 0 0 1 0 1]\n",
      " [0 0 0 1 0 1 1 0 0 1 0 0]]\n",
      "  (0, 1)\t1\n",
      "  (0, 2)\t1\n",
      "  (0, 4)\t1\n",
      "  (0, 9)\t1\n",
      "  (0, 11)\t1\n",
      "  (1, 1)\t1\n",
      "  (1, 4)\t1\n",
      "  (1, 8)\t1\n",
      "  (1, 9)\t1\n",
      "  (1, 11)\t1\n",
      "  (2, 0)\t1\n",
      "  (2, 6)\t1\n",
      "  (2, 7)\t1\n",
      "  (2, 9)\t1\n",
      "  (2, 10)\t1\n",
      "  (3, 1)\t1\n",
      "  (3, 2)\t1\n",
      "  (3, 4)\t1\n",
      "  (3, 9)\t1\n",
      "  (3, 11)\t1\n",
      "  (4, 3)\t1\n",
      "  (4, 5)\t1\n",
      "  (4, 6)\t1\n",
      "  (4, 9)\t1\n",
      "[1 3 2 1 3 1 2 1 1 5 1 3]\n"
     ]
    }
   ],
   "source": [
    "from sklearn.feature_extraction.text import CountVectorizer\n",
    "\n",
    "vectorizer = CountVectorizer(min_df=1,binary=True) #instantiate the CountVectorizer class\n",
    "\n",
    "corpus = [\n",
    " \t\t\t'This is the first document.',\n",
    "    \t\t'This is the second second document.',\n",
    "    \t\t'And the third one name.',\n",
    "\t\t\t'Is this the first document?',\n",
    "            'hello hello hello my name the name'\n",
    "\t\t]\n",
    "vectorizer.fit(corpus) #tag and index\n",
    "print(vectorizer.vocabulary_) #print the vocabulary dic\n",
    "vector = vectorizer.transform(corpus) #transform each document into a word frequency vector\n",
    "feature_name = vectorizer.get_feature_names() #generate corpus into a vocabulary list\n",
    "\n",
    "print(vector.shape) #vector length: 12, K=5\n",
    "print(type(vector)) #type: sparse vector\n",
    "print (feature_name)\n",
    "print(vector.toarray()) #transform sparse vector into numpy array\n",
    "print (vector) #sparse vector \n",
    "print(vector.toarray().sum(axis=0)) #count each word' frequency in the corpus"
   ]
  },
  {
   "cell_type": "code",
   "execution_count": null,
   "metadata": {},
   "outputs": [],
   "source": []
  }
 ],
 "metadata": {
  "kernelspec": {
   "display_name": "Python 3",
   "language": "python",
   "name": "python3"
  },
  "language_info": {
   "codemirror_mode": {
    "name": "ipython",
    "version": 3
   },
   "file_extension": ".py",
   "mimetype": "text/x-python",
   "name": "python",
   "nbconvert_exporter": "python",
   "pygments_lexer": "ipython3",
   "version": "3.8.3"
  }
 },
 "nbformat": 4,
 "nbformat_minor": 4
}
