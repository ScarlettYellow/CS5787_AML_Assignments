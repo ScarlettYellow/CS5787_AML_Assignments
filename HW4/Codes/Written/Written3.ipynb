{
 "cells": [
  {
   "cell_type": "code",
   "execution_count": 1,
   "metadata": {},
   "outputs": [],
   "source": [
    "# import modules\n",
    "\n",
    "import numpy as np\n",
    "import math"
   ]
  },
  {
   "cell_type": "code",
   "execution_count": 2,
   "metadata": {},
   "outputs": [
    {
     "name": "stdout",
     "output_type": "stream",
     "text": [
      "[[ 1  0  3]\n",
      " [ 3  7  2]\n",
      " [ 2 -2  8]\n",
      " [ 0 -1  1]\n",
      " [ 5  8  7]]\n",
      "(5, 3)\n",
      "<class 'numpy.matrix'>\n"
     ]
    }
   ],
   "source": [
    "# create the matrix\n",
    "\n",
    "M = np.array([[1,0,3],[3,7,2],[2,-2,8],[0,-1,1],[5,8,7]])\n",
    "M = np.mat(M)\n",
    "print (M)\n",
    "print (M.shape)\n",
    "print (type(M))"
   ]
  },
  {
   "cell_type": "code",
   "execution_count": 3,
   "metadata": {},
   "outputs": [
    {
     "name": "stdout",
     "output_type": "stream",
     "text": [
      "[[ 1  3  2  0  5]\n",
      " [ 0  7 -2 -1  8]\n",
      " [ 3  2  8  1  7]]\n",
      "(3, 5)\n"
     ]
    }
   ],
   "source": [
    "# (a) Compute the matrices M^T*M and M*M^T\n",
    "\n",
    "MT = M.T\n",
    "print (MT)\n",
    "print (MT.shape)"
   ]
  },
  {
   "cell_type": "code",
   "execution_count": 4,
   "metadata": {},
   "outputs": [
    {
     "name": "stdout",
     "output_type": "stream",
     "text": [
      "[[ 39  57  60]\n",
      " [ 57 118  53]\n",
      " [ 60  53 127]]\n",
      "(3, 3)\n"
     ]
    }
   ],
   "source": [
    "# a-1: Compute the matrix M^T*M\n",
    "\n",
    "MTM = MT*M\n",
    "print (MTM)\n",
    "print (MTM.shape)"
   ]
  },
  {
   "cell_type": "code",
   "execution_count": 5,
   "metadata": {},
   "outputs": [
    {
     "name": "stdout",
     "output_type": "stream",
     "text": [
      "[[ 10   9  26   3  26]\n",
      " [  9  62   8  -5  85]\n",
      " [ 26   8  72  10  50]\n",
      " [  3  -5  10   2  -1]\n",
      " [ 26  85  50  -1 138]]\n",
      "(5, 5)\n"
     ]
    }
   ],
   "source": [
    "# a-2: Compute the matrix M*M^T\n",
    "\n",
    "MMT = M*MT\n",
    "print (MMT)\n",
    "print (MMT.shape)"
   ]
  },
  {
   "cell_type": "code",
   "execution_count": 6,
   "metadata": {},
   "outputs": [
    {
     "name": "stdout",
     "output_type": "stream",
     "text": [
      "eigenvalues= [2.14670489e+02 9.32587341e-15 6.93295108e+01]\n",
      "<class 'numpy.ndarray'>\n",
      "eigenvector= [[ 0.42615127  0.90453403 -0.01460404]\n",
      " [ 0.61500884 -0.30151134 -0.72859799]\n",
      " [ 0.66344497 -0.30151134  0.68478587]]\n",
      "<class 'numpy.matrix'>\n"
     ]
    }
   ],
   "source": [
    "# (b)&(c) \n",
    "\n",
    "# 1.Find the eigenvalues and eigenvectors for M^T*M\n",
    "\n",
    "MTM_E, MTM_V = np.linalg.eig(MTM)\n",
    "\n",
    "print (\"eigenvalues=\", MTM_E)\n",
    "print (type(MTM_E))\n",
    "print (\"eigenvector=\", MTM_V)\n",
    "print (type(MTM_V))"
   ]
  },
  {
   "cell_type": "code",
   "execution_count": 7,
   "metadata": {},
   "outputs": [
    {
     "name": "stdout",
     "output_type": "stream",
     "text": [
      "eigenvalues= [ 2.14670489e+02 -8.88178420e-16  6.93295108e+01 -3.34838281e-15\n",
      "  7.47833227e-16]\n",
      "<class 'numpy.ndarray'>\n",
      "eigenvector= [[-0.16492942 -0.95539856  0.24497323 -0.54001979 -0.78501713]\n",
      " [-0.47164732 -0.03481209 -0.45330644 -0.62022234  0.30294097]\n",
      " [-0.33647055  0.27076072  0.82943965 -0.12704172  0.2856551 ]\n",
      " [-0.00330585  0.04409532  0.16974659  0.16015949  0.43709105]\n",
      " [-0.79820031  0.10366268 -0.13310656  0.53095405 -0.13902319]]\n",
      "<class 'numpy.matrix'>\n"
     ]
    }
   ],
   "source": [
    "# 1.Find the eigenvalues and eigenvectors for M*M^T\n",
    "\n",
    "MMT_E, MMT_V = np.linalg.eig(MMT)\n",
    "\n",
    "print (\"eigenvalues=\", MMT_E)\n",
    "print (type(MMT_E))\n",
    "print (\"eigenvector=\", MMT_V)\n",
    "print (type(MMT_V))"
   ]
  },
  {
   "cell_type": "code",
   "execution_count": 8,
   "metadata": {},
   "outputs": [
    {
     "name": "stdout",
     "output_type": "stream",
     "text": [
      "sigma= [14.65163776  8.32643446]\n",
      "2\n"
     ]
    }
   ],
   "source": [
    "# (d) Method 1\n",
    "\n",
    "# Find the SVD for the original matrix M from parts (b) and (c)\n",
    "\n",
    "# d-1: Find the sigma of matrix M\n",
    "# The result is the same when replacing MMT_E with MTM_E, because MTM and MMT have same non-zero eigenvalues, index=0,2  \n",
    "M_sigma = np.array([math.sqrt(MMT_E[0]),math.sqrt(MMT_E[2])])\n",
    "print (\"sigma=\", M_sigma) \n",
    "\n",
    "# check the number of non-zero eigenvalues, = the rank of matrix \n",
    "M_rank = np.linalg.matrix_rank(M)\n",
    "print (M_rank) # M is rank 2."
   ]
  },
  {
   "cell_type": "code",
   "execution_count": 9,
   "metadata": {},
   "outputs": [
    {
     "name": "stdout",
     "output_type": "stream",
     "text": [
      "VT= [[ 0.42615127  0.61500884]\n",
      " [-0.01460404 -0.72859799]]\n"
     ]
    }
   ],
   "source": [
    "# d-2: Find the VT of matrix M, VT is a 2*2 matrix \n",
    "\n",
    "rows_V = [0,1] # get row 0 and 1\n",
    "cols_V = [0,2] # get column 0 and 2\n",
    "M_V = MTM_V[rows_V,:][:,cols_V]\n",
    "M_VT = M_V.T\n",
    "print (\"VT=\", M_VT)"
   ]
  },
  {
   "cell_type": "code",
   "execution_count": 10,
   "metadata": {},
   "outputs": [
    {
     "name": "stdout",
     "output_type": "stream",
     "text": [
      "U= [[-0.16492942  0.24497323]\n",
      " [-0.47164732 -0.45330644]\n",
      " [-0.33647055  0.82943965]\n",
      " [-0.00330585  0.16974659]\n",
      " [-0.79820031 -0.13310656]]\n"
     ]
    }
   ],
   "source": [
    "# d-3: Find the U of matrix M, U is a 5*2 matrix \n",
    "\n",
    "cols_U = [0,2] #  get column 0 and 2\n",
    "M_U = MMT_V[:,cols_U]\n",
    "print (\"U=\", M_U)"
   ]
  },
  {
   "cell_type": "code",
   "execution_count": 11,
   "metadata": {},
   "outputs": [
    {
     "name": "stdout",
     "output_type": "stream",
     "text": [
      "14.651637764976883\n",
      "[14.65163776]\n"
     ]
    }
   ],
   "source": [
    "# (e) Method 1\n",
    "\n",
    "# e-1: keep only one non-zero singular value, by setting the smaller singular value to 0\n",
    "\n",
    "sigma_max = max(M_sigma)\n",
    "print (sigma_max)\n",
    "M_sigma_new = np.array([sigma_max]) \n",
    "#M_sigma_new = np.mat(M_sigma_new)\n",
    "print (M_sigma_new)"
   ]
  },
  {
   "cell_type": "code",
   "execution_count": 12,
   "metadata": {},
   "outputs": [
    {
     "name": "stdout",
     "output_type": "stream",
     "text": [
      "------U-----\n",
      "[[-0.16492942]\n",
      " [-0.47164732]\n",
      " [-0.33647055]\n",
      " [-0.00330585]\n",
      " [-0.79820031]]\n",
      "------S-----\n",
      "[14.65163776]\n",
      "------VT-----\n",
      "[[0.42615127]]\n",
      "[[14.65163776]]\n",
      "1D approximation to M:\n",
      "[[-1.02978864]\n",
      " [-2.94487812]\n",
      " [-2.10085952]\n",
      " [-0.02064112]\n",
      " [-4.9838143 ]]\n"
     ]
    }
   ],
   "source": [
    "# e-2: Compute the 1D approximation to M\n",
    "\n",
    "k=1\n",
    "u,d,vt = M_U[:,:k],M_sigma[:k],M_VT[:,:k][:k,:]\n",
    "print(\"------U-----\")\n",
    "print(u)\n",
    "print(\"------S-----\")\n",
    "print(d)\n",
    "print(\"------VT-----\")\n",
    "print(vt)\n",
    "\n",
    "# Compute the 1D approximation to M\n",
    "\n",
    "A = np.zeros([1,1])\n",
    "for i in range(1):\n",
    "    A[i][i] = d[i]\n",
    "print (A)\n",
    "tmp = np.dot(u,A)\n",
    "print(\"1D approximation to M:\")\n",
    "print(np.dot(tmp,vt))"
   ]
  },
  {
   "cell_type": "code",
   "execution_count": 13,
   "metadata": {},
   "outputs": [
    {
     "name": "stdout",
     "output_type": "stream",
     "text": [
      "U= [[-0.16492942 -0.24497323  0.9482579   0.09864471 -0.06214956]\n",
      " [-0.47164732  0.45330644 -0.02261948  0.08103373 -0.75165416]\n",
      " [-0.33647055 -0.82943965 -0.27341434 -0.18350729 -0.3006445 ]\n",
      " [-0.00330585 -0.16974659 -0.14522096  0.97468061  0.00915155]\n",
      " [-0.79820031  0.13310656 -0.06671416  0.00505374  0.58368021]]\n",
      "sigma= [1.46516378e+01 8.32643446e+00 2.99921582e-16]\n",
      "VT= [[-0.42615127 -0.61500884 -0.66344497]\n",
      " [ 0.01460404  0.72859799 -0.68478587]\n",
      " [-0.90453403  0.30151134  0.30151134]]\n",
      "------U-----\n",
      "[[-0.16492942 -0.24497323]\n",
      " [-0.47164732  0.45330644]\n",
      " [-0.33647055 -0.82943965]\n",
      " [-0.00330585 -0.16974659]\n",
      " [-0.79820031  0.13310656]]\n",
      "------S-----\n",
      "[14.65163776  8.32643446]\n",
      "------VT-----\n",
      "[[-0.42615127 -0.61500884]\n",
      " [ 0.01460404  0.72859799]]\n"
     ]
    }
   ],
   "source": [
    "# (d) Method 2\n",
    "\n",
    "U,sigma,VT = np.linalg.svd(M)\n",
    "\n",
    "print (\"U=\", U)\n",
    "print (\"sigma=\", sigma)\n",
    "print (\"VT=\", VT)\n",
    "\n",
    "k=2\n",
    "u,d,vt = U[:,:k],sigma[:k],VT[:,:k][:k,:]\n",
    "print(\"------U-----\")\n",
    "print(u)\n",
    "print(\"------S-----\")\n",
    "print(d)\n",
    "print(\"------VT-----\")\n",
    "print(vt)"
   ]
  },
  {
   "cell_type": "code",
   "execution_count": 14,
   "metadata": {},
   "outputs": [
    {
     "name": "stdout",
     "output_type": "stream",
     "text": [
      "------U-----\n",
      "[[-0.16492942]\n",
      " [-0.47164732]\n",
      " [-0.33647055]\n",
      " [-0.00330585]\n",
      " [-0.79820031]]\n",
      "------S-----\n",
      "[14.65163776]\n",
      "------VT-----\n",
      "[[-0.42615127]]\n",
      "1D approximation to M:\n",
      "[[1.02978864]\n",
      " [2.94487812]\n",
      " [2.10085952]\n",
      " [0.02064112]\n",
      " [4.9838143 ]]\n"
     ]
    }
   ],
   "source": [
    "# (e) Method 2\n",
    "\n",
    "k=1\n",
    "u,d,vt = u[:,:k],d[:k],vt[:,:k][:k,:]\n",
    "print(\"------U-----\")\n",
    "print(u)\n",
    "print(\"------S-----\")\n",
    "print(d)\n",
    "print(\"------VT-----\")\n",
    "print(vt)\n",
    "\n",
    "# Compute the 1D approximation to M\n",
    "A = np.zeros([1,1])\n",
    "for i in range(1):\n",
    "    A[i][i] = d[i]\n",
    "tmp = np.dot(u,A)\n",
    "print(\"1D approximation to M:\")\n",
    "print(np.dot(tmp,vt))"
   ]
  }
 ],
 "metadata": {
  "kernelspec": {
   "display_name": "Python 3",
   "language": "python",
   "name": "python3"
  },
  "language_info": {
   "codemirror_mode": {
    "name": "ipython",
    "version": 3
   },
   "file_extension": ".py",
   "mimetype": "text/x-python",
   "name": "python",
   "nbconvert_exporter": "python",
   "pygments_lexer": "ipython3",
   "version": "3.8.3"
  }
 },
 "nbformat": 4,
 "nbformat_minor": 4
}
