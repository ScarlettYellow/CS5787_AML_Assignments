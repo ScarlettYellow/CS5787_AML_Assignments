{
 "cells": [
  {
   "cell_type": "markdown",
   "metadata": {},
   "source": [
    "# Programming 1"
   ]
  },
  {
   "cell_type": "markdown",
   "metadata": {},
   "source": [
    "## 1.a"
   ]
  },
  {
   "cell_type": "code",
   "execution_count": 1,
   "metadata": {},
   "outputs": [],
   "source": [
    "# import modules\n",
    "\n",
    "import numpy as np\n",
    "import pandas as pd\n",
    "import matplotlib.pyplot as plt\n",
    "%matplotlib inline\n",
    "import math"
   ]
  },
  {
   "cell_type": "code",
   "execution_count": 2,
   "metadata": {},
   "outputs": [
    {
     "name": "stdout",
     "output_type": "stream",
     "text": [
      "[[-0.2521619 -0.2521619  9.36371   ... -0.2521619 -0.2521619 -0.2521619]\n",
      " [-0.2875293 -0.2875293  8.229864  ... -0.2875293 -0.2875293 -0.2875293]\n",
      " [-0.3634041 -0.3634041  9.252468  ... -0.3634041 -0.3634041 -0.3634041]\n",
      " ...\n",
      " [10.04846   -0.7713402  9.132197  ... -0.7713402 -0.7713402 -0.7713402]\n",
      " [11.00702   -0.8423803 10.38288   ... -0.8423803 -0.8423803 -0.8423803]\n",
      " [ 9.710337  -0.7527946  9.556191  ... -0.7527946 -0.7527946 -0.7527946]]\n",
      "1373\n",
      "<class 'numpy.ndarray'>\n",
      "(1373, 5476)\n"
     ]
    }
   ],
   "source": [
    "# load .npy file\n",
    "\n",
    "dw_matrix = np.load('data/science2k-doc-word.npy') \n",
    "\n",
    "print (dw_matrix)\n",
    "print (len(dw_matrix))\n",
    "print (type(dw_matrix))\n",
    "print (dw_matrix.shape)"
   ]
  },
  {
   "cell_type": "code",
   "execution_count": 7,
   "metadata": {},
   "outputs": [],
   "source": [
    "# a-1: implement kmeans \n",
    "\n",
    "from numpy import *\n",
    "import matplotlib.pyplot as plt\n",
    "\n",
    "# Compute Euclidean distance\n",
    "def euclidean_distance(vec1, vec2):\n",
    "\teu_distance = sqrt(sum(power(vec2 - vec1, 2)))\n",
    "\treturn eu_distance\n",
    " \n",
    "# init centroids with random samples\n",
    "def init_centroids(data, k):\n",
    "\tnum_samples, dim = data.shape\n",
    "\tcentroids = zeros((k, dim))\n",
    "\tfor i in range(k):\n",
    "\t\tidx = int(random.uniform(0, num_samples))\n",
    "\t\tcentroids[i, :] = data[idx, :]\n",
    "\treturn centroids\n",
    " \n",
    "# kmeans\n",
    "def kmeans(data, k):\n",
    "\tnum_samples = data.shape[0]\n",
    "\n",
    "\tdoc_cluster = mat(zeros((num_samples, 2)))\n",
    "\tcls_changed = True\n",
    " \n",
    "\t# init centroids\n",
    "\tcentroids = init_centroids(data, k)\n",
    " \n",
    "\twhile cls_changed:\n",
    "\t\tcls_changed = False\n",
    "\t\tfor i in range(num_samples):\n",
    "\t\t\tmin_dist  = 100000.0\n",
    "\t\t\tmin_idx = 0\n",
    "\t\t\t# for each centroid, find the centroid who is closest\n",
    "\t\t\tfor j in range(k):\n",
    "\t\t\t\tdistance = euclidean_distance(centroids[j, :], data[i, :])\n",
    "\t\t\t\tif distance < min_dist:\n",
    "\t\t\t\t\tmin_dist  = distance\n",
    "\t\t\t\t\tmin_idx = j\n",
    "\t\t\t\n",
    "\t\t\t# update its cluster\n",
    "\t\t\tif doc_cluster[i, 0] != min_idx:\n",
    "\t\t\t\tcls_changed = True\n",
    "\t\t\t\tdoc_cluster[i, :] = min_idx, min_dist**2\n",
    " \n",
    "\t\t# update centroids\n",
    "\t\tfor j in range(k):\n",
    "\t\t\tpoints_cls = data[nonzero(doc_cluster[:, 0].A == j)[0]]\n",
    "\t\t\tcentroids[j, :] = mean(points_cls, axis = 0)\n",
    " \n",
    "\treturn centroids, doc_cluster\n",
    "\n",
    "# plot the cluster \n",
    "def show_cluster(data, k, centroids, doc_cluster):\n",
    "\tnum_samples, dim = data.shape\n",
    "\tif dim != 5476:\n",
    "\t\treturn 1\n",
    " \n",
    "\tmarks = ['or', 'ob', 'og', 'ok', '^r', '+r', 'sr', 'dr', '<r', 'pr','or', 'ob', 'og', 'ok', '^r', '+r', 'sr', 'dr', '<r', 'pr']\n",
    "\tif k > len(marks):\n",
    "\t\treturn 1\n",
    " \n",
    "\t# plot all samples\n",
    "\tfor i in range(num_samples):\n",
    "\t\tmark_idx = int(doc_cluster[i, 0])\n",
    "\t\tplt.plot(data[i, 0], data[i, 1], marks[mark_idx])\n",
    " \n",
    "\tmarks = ['Dr', 'Db', 'Dg', 'Dk', '^b', '+b', 'sb', 'db', '<b', 'pb','Dr', 'Db', 'Dg', 'Dk', '^b', '+b', 'sb', 'db', '<b', 'pb']\n",
    "\t# draw the centroids\n",
    "\tfor i in range(k):\n",
    "\t\tplt.plot(centroids[i, 0], centroids[i, 1], marks[i], markersize = 12)\n",
    " \n",
    "\tplt.show()"
   ]
  },
  {
   "cell_type": "code",
   "execution_count": 4,
   "metadata": {},
   "outputs": [
    {
     "data": {
      "image/png": "[encoded data removed]",
      "text/plain": [
       "<Figure size 432x288 with 1 Axes>"
      ]
     },
     "metadata": {
      "needs_background": "light"
     },
     "output_type": "display_data"
    }
   ],
   "source": [
    "# Run the model\n",
    "## clustering, k=10\n",
    "data = mat(dw_matrix)\n",
    "k = 10\n",
    "centroids, doc_cluster = kmeans(data, k)\n",
    "\n",
    "## plot\n",
    "show_cluster(data, k, centroids, doc_cluster)"
   ]
  },
  {
   "cell_type": "code",
   "execution_count": 5,
   "metadata": {},
   "outputs": [
    {
     "data": {
      "image/png": "[encoded data removed]",
      "text/plain": [
       "<Figure size 432x288 with 1 Axes>"
      ]
     },
     "metadata": {
      "needs_background": "light"
     },
     "output_type": "display_data"
    }
   ],
   "source": [
    "# a-2: Select the best value for k\n",
    "\n",
    "from sklearn.cluster import KMeans\n",
    "from sklearn import metrics\n",
    "from scipy.spatial.distance import cdist\n",
    "import matplotlib.pyplot as plt\n",
    "\n",
    "K = range(2, 20)\n",
    "meandistortions = []\n",
    "\n",
    "X = mat(dw_matrix)\n",
    "\n",
    "for k in K:\n",
    "    kmeans = KMeans(n_clusters=k)\n",
    "    kmeans.fit(X)\n",
    "    meandistortions.append(sum(np.min(cdist(X, kmeans.cluster_centers_, 'euclidean'), axis=1)) / X.shape[0])\n",
    "\n",
    "plt.plot(K, meandistortions, 'bx-')\n",
    "plt.xlabel('k')\n",
    "plt.ylabel(u'Mean distortion degree')\n",
    "plt.title(u'Use the elbow rule to determine the best value for K');\n",
    "plt.show()"
   ]
  },
  {
   "cell_type": "code",
   "execution_count": 19,
   "metadata": {},
   "outputs": [
    {
     "data": {
      "image/png": "[encoded data removed]",
      "text/plain": [
       "<Figure size 432x288 with 1 Axes>"
      ]
     },
     "metadata": {
      "needs_background": "light"
     },
     "output_type": "display_data"
    }
   ],
   "source": [
    "# a-3: Run the model\n",
    "\n",
    "## clustering\n",
    "## set k=7, because according to elbow rule, we can see that in the process of K value increasing, the K value corresponding to the position where the improvement effect of average distortion degree decreases the most is 7.\n",
    "\n",
    "data = mat(dw_matrix)\n",
    "k = 7\n",
    "centroids, doc_cluster = kmeans(data, k)\n",
    "\n",
    "## plot\n",
    "show_cluster(data, k, centroids, doc_cluster)"
   ]
  },
  {
   "cell_type": "code",
   "execution_count": 20,
   "metadata": {},
   "outputs": [
    {
     "name": "stdout",
     "output_type": "stream",
     "text": [
      "[[ 9.807132   -1.012666    9.114005   ... -1.012666   -1.012666\n",
      "  -1.012666  ]\n",
      " [10.46259    -0.8878248   9.421161   ... -0.8878248  -0.8878248\n",
      "  -0.8878248 ]\n",
      " [ 4.53212466  1.47859304  8.96488063 ... -0.49527608 -0.56887007\n",
      "  -0.47825439]\n",
      " ...\n",
      " [10.77862    -1.08089     9.627346   ... -1.08089    -1.08089\n",
      "  -1.08089   ]\n",
      " [10.02691817  8.2438794   9.13370419 ... -0.51721605 -0.6103251\n",
      "  -0.79039602]\n",
      " [10.45232    -0.9552607   9.6414     ... -0.9552607  -0.9552607\n",
      "  -0.9552607 ]]\n",
      "7\n",
      "<class 'numpy.ndarray'>\n",
      "(7, 5476)\n",
      "[[2.00000000e+00 2.11885050e+04]\n",
      " [2.00000000e+00 2.22859889e+04]\n",
      " [2.00000000e+00 2.44449395e+04]\n",
      " ...\n",
      " [5.00000000e+00 4.20898259e+04]\n",
      " [2.00000000e+00 4.61358903e+04]\n",
      " [2.00000000e+00 4.30799672e+04]]\n",
      "1373\n",
      "<class 'numpy.matrix'>\n",
      "(1373, 2)\n",
      "[2, 2, 2, 2, 2, 2, 2, 2, 2, 2, 2, 2, 2, 2, 2, 2, 2, 2, 2, 5]\n",
      "clusters: {0, 1, 2, 3, 4, 5, 6}\n"
     ]
    }
   ],
   "source": [
    "# central points\n",
    "print (centroids)\n",
    "print (len(centroids))\n",
    "print (type(centroids))\n",
    "print (centroids.shape)\n",
    "\n",
    "# labels \n",
    "print (doc_cluster)\n",
    "print (len(doc_cluster))\n",
    "print (type(doc_cluster))\n",
    "print (doc_cluster.shape)\n",
    "\n",
    "labels = doc_cluster[:,0]\n",
    "labels = list(map(int,labels))\n",
    "print (labels[:20])\n",
    "\n",
    "cls = set(labels)\n",
    "print (\"clusters:\", cls)"
   ]
  },
  {
   "cell_type": "code",
   "execution_count": 21,
   "metadata": {},
   "outputs": [
    {
     "name": "stdout",
     "output_type": "stream",
     "text": [
      "------Top 10 words in each cluster------\n",
      "Cluster 0 :\n",
      "[['eros'], ['solar'], ['kev'], ['sun'], ['elemental'], ['ratios'], ['asteroid'], ['ray'], ['ordinary'], ['detector']]\n",
      "Cluster 1 :\n",
      "[['coherence'], ['extinction'], ['patch'], ['dispersal'], ['coherent'], ['probabilities'], ['patches'], ['oscillations'], ['criteria'], ['probability']]\n",
      "Cluster 2 :\n",
      "[['years'], ['year'], ['scientists'], ['world'], ['researchers'], ['says'], ['field'], ['mail'], ['million'], ['focus']]\n",
      "Cluster 3 :\n",
      "[['co2'], ['terrestrial'], ['carbon'], ['ocean'], ['ecosystems'], ['atmospheric'], ['nitrogen'], ['oceans'], ['sink'], ['interglacial']]\n",
      "Cluster 4 :\n",
      "[['spectral'], ['longitude'], ['wavelengths'], ['spectra'], ['band'], ['wavelength'], ['incident'], ['kilometers'], ['elongated'], ['images']]\n",
      "Cluster 5 :\n",
      "[['protein'], ['cell'], ['cells'], ['expression'], ['proteins'], ['fig'], ['gene'], ['specific'], ['binding'], ['expressed']]\n",
      "Cluster 6 :\n",
      "[['titans'], ['clouds'], ['methane'], ['spectra'], ['cloud'], ['altitude'], ['atmosphere'], ['albedo'], ['flux'], ['saturated']]\n"
     ]
    }
   ],
   "source": [
    "# a-4: Report top 10 words in each cluster\n",
    "\n",
    "import heapq\n",
    "\n",
    "# calculate x_average \n",
    "x_avg = np.mean(dw_matrix, axis=0)\n",
    "\n",
    "vocab_df = pd.read_csv(\"data/science2k-vocab.txt\", header=None)\n",
    "vocab_array = np.array(vocab_df) \n",
    "vocabs = vocab_array.tolist()\n",
    "#print (vocabs[:20])\n",
    "#print (len(vocabs))\n",
    "\n",
    "def cal_cn_idx_list(n):\n",
    "    i = 0\n",
    "    cn = []\n",
    "    cn_idx_list = []\n",
    "    for p in labels:\n",
    "        if p == n:\n",
    "            doc = dw_matrix[i]\n",
    "            cn.append(doc)\n",
    "            cn_idx_list.append(i)\n",
    "\n",
    "            if i >= len(labels)-1:\n",
    "                break\n",
    "        i = i + 1\n",
    "    #print (cn_idx_list)\n",
    "    return cn_idx_list,cn\n",
    "\n",
    "print (\"------Top 10 words in each cluster------\")\n",
    "\n",
    "for n in cls:\n",
    "    cn_idx_list,cn = cal_cn_idx_list(n)\n",
    "    cn_matrix = np.array(cn)\n",
    "    cn_mean_matrix = np.mean(cn_matrix, axis=0)\n",
    "    \n",
    "    cn_sig_matrix = cn_mean_matrix - x_avg \n",
    "    cn_sig_list = cn_sig_matrix.tolist()\n",
    "    \n",
    "    # top 10 largest numbers\n",
    "    max_idx = map(cn_sig_list.index, heapq.nlargest(10, cn_sig_list))\n",
    "    max_idx_list = list(max_idx)\n",
    "    #print(list(max_idx_list))\n",
    "    \n",
    "    # report top 10 words\n",
    "    top_word_list = []\n",
    "    for m in max_idx_list:\n",
    "        top_word = vocabs[m]\n",
    "        top_word_list.append(top_word)\n",
    "    print (\"Cluster\",n,\":\")\n",
    "    print (top_word_list)"
   ]
  },
  {
   "cell_type": "code",
   "execution_count": 22,
   "metadata": {},
   "outputs": [
    {
     "name": "stdout",
     "output_type": "stream",
     "text": [
      "------Top 10 documents that fall closest to each cluster center------\n",
      "Cluster 0 :\n",
      "[['Archaeology in the Holy Land']]\n",
      "Cluster 1 :\n",
      "[['Archaeology in the Holy Land']]\n",
      "Cluster 2 :\n",
      "[['Similar Requirements of a Plant Symbiont and a Mammalian Pathogen for Prolonged Intracellular Survival'], ['A Deluge of Patents Creates Legal Hassles for Research'], ['Childhood Cancer'], ['Trojan Horses'], ['An Integrative Science Finds a Home'], ['An Integrative Science Finds a Home'], ['An Integrative Science Finds a Home'], ['Archaeology in the Holy Land'], ['Close Encounters: Details Veto Depth from Shadows'], ['Thermal, Catalytic, Regiospecific Functionalization of Alkanes']]\n",
      "Cluster 3 :\n",
      "[['Archaeology in the Holy Land']]\n",
      "Cluster 4 :\n",
      "[['Archaeology in the Holy Land'], [\"Baedeker's Guide, or Just Plain 'Trouble'?\"]]\n",
      "Cluster 5 :\n",
      "[['Reforming the Patent System'], [\"On the Hunt for a Wolf in Sheep's Clothing\"], ['Is Bigger Better in Cricket?'], ['Was Lamarck Just a Little Bit Right?'], ['Hydrogen Storage in Nanotubes'], ['When Pharma Merges, R&D Is the Dowry'], ['Superplastic Extensibility of Nanocrystalline Copper at Room Temperature'], ['Coupling of Stress in the ER to Activation of JNK Protein Kinases by Transmembrane Protein Kinase IRE1'], ['Mice Are Not Furry Petri Dishes'], ['<latex>$H_3^+$</latex>-an Ion with Many Talents']]\n",
      "Cluster 6 :\n",
      "[['Archaeology in the Holy Land']]\n"
     ]
    }
   ],
   "source": [
    "# a-5: Report the top ten documents that fall closest to each cluster center\n",
    "\n",
    "title_df = pd.read_csv(\"data/science2k-titles.txt\", header=None)\n",
    "title_array = np.array(title_df) \n",
    "titles = title_array.tolist()\n",
    "#print (titles[:20])\n",
    "#print (len(titles))\n",
    "\n",
    "def get_distances(n):\n",
    "    cn_idx_list,cn = cal_cn_idx_list(n)\n",
    "    cn_matrix = np.array(cn)\n",
    "    cn_mean_matrix = np.mean(cn_matrix, axis=0)\n",
    "    distances = []  \n",
    "    for j in range(len(cn)):\n",
    "        distances.append(euclidean_distance(cn[j], cn_mean_matrix))\n",
    "    return distances\n",
    "\n",
    "print (\"------Top 10 documents that fall closest to each cluster center------\")\n",
    "\n",
    "for n in cls:\n",
    "    cn_distances = get_distances(n)\n",
    "    #print (len(cn_distances))\n",
    "    #print (cn_distances)\n",
    "    \n",
    "    # top 10 smallest distances in each cluster\n",
    "    min_idx = map(cn_distances.index, heapq.nsmallest(10, cn_distances))\n",
    "    min_idx_list = list(min_idx)\n",
    "    #print(list(min_idx_list))\n",
    "    \n",
    "    # report top 10 documents in each cluster\n",
    "    top_doc_list = []\n",
    "    for m in min_idx_list:\n",
    "        top_doc = titles[m]\n",
    "        top_doc_list.append(top_doc)\n",
    "    print (\"Cluster\",n,\":\")\n",
    "    print (top_doc_list)"
   ]
  },
  {
   "cell_type": "markdown",
   "metadata": {},
   "source": [
    "### a-6\n",
    "\n",
    "Comment on these results. \n",
    "\n",
    "1.What has the algorithm captured? \n",
    "\n",
    "- This algorithm mainly captures the topic information. It clusters documents, helps to get the relevant documents for each cluster center. From this, we can know which documents belong to the same topic.\n",
    "\n",
    "2.How might such an algorithm be useful?\n",
    "\n",
    "- This algorithm can be applied to document classification/topic clustering. By using it, we can know what topic a document belongs to and which documents belong to the same topic. \n",
    "- Through the Top 10 words, we can know the key words in certain topics. Through the top 10 documents, we can find the documents that are most relevant to a certain topic."
   ]
  }
 ],
 "metadata": {
  "kernelspec": {
   "display_name": "Python 3",
   "language": "python",
   "name": "python3"
  },
  "language_info": {
   "codemirror_mode": {
    "name": "ipython",
    "version": 3
   },
   "file_extension": ".py",
   "mimetype": "text/x-python",
   "name": "python",
   "nbconvert_exporter": "python",
   "pygments_lexer": "ipython3",
   "version": "3.8.3"
  }
 },
 "nbformat": 4,
 "nbformat_minor": 4
}
