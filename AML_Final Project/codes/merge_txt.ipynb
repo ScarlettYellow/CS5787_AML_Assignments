{
 "cells": [
  {
   "cell_type": "code",
   "execution_count": null,
   "metadata": {},
   "outputs": [],
   "source": [
    "import pandas as pd\n",
    "import numpy as np\n",
    "import importlib\n",
    "import sys\n",
    "importlib.reload(sys)\n",
    "import os\n",
    "import os.path\n",
    "import time\n",
    "time0=time.time()"
   ]
  },
  {
   "cell_type": "code",
   "execution_count": null,
   "metadata": {},
   "outputs": [],
   "source": [
    "# Merge multiple .txt files under the same folder.\n",
    "\n",
    "def merge_txt(file_path,merged_file):\n",
    "    file = open(file_path+merged_file, 'a+')\n",
    "    for parent, dirnames, filenames in os.walk(file_path):\n",
    "        for file_path in filenames:\n",
    "            txt_Path = os.path.join(parent, file_path)  # Txtpath is the path to all files\n",
    "            f = open(txt_Path)\n",
    "            # newline\n",
    "            file.write(f.read()+\"\\n\")\n",
    "    file.close()\n",
    "    print (\"Completed!\")"
   ]
  },
  {
   "cell_type": "code",
   "execution_count": null,
   "metadata": {},
   "outputs": [],
   "source": [
    "# merge two days, 2020/07/03, 2020/07/10\n",
    "\n",
    "if __name__ == '__main__':\n",
    "    file_path=\"input/traffic/merge_1/\"\n",
    "    merged_file=\"merged_2d.txt\"\n",
    "    merge_txt(file_path,merged_file)\n",
    "    time1 = time.time()\n",
    "    print (u'Time consumed：' + str(time1 - time0) + 's')"
   ]
  },
  {
   "cell_type": "code",
   "execution_count": null,
   "metadata": {},
   "outputs": [],
   "source": [
    "# merge four days, 2020/07/03, 2020/07/10, 2020/07/17, 2020/07/24\n",
    "\n",
    "if __name__ == '__main__':\n",
    "    file_path=\"input/traffic/merge_2/\"\n",
    "    merged_file=\"merged_4d.txt\"\n",
    "    merge_txt(file_path,merged_file)\n",
    "    time1 = time.time()\n",
    "    print (u'Time consumed：' + str(time1 - time0) + 's')"
   ]
  },
  {
   "cell_type": "code",
   "execution_count": 29,
   "metadata": {},
   "outputs": [
    {
     "name": "stdout",
     "output_type": "stream",
     "text": [
      "(4094303, 76)\n",
      "   516999 1 209 230;205:32.20  28.20  1   4 206:28.40  26.70  1.1  \\\n",
      "0  342715 1 492 516;488:29.40   25.0  1  14 489:19.50   24.5    2   \n",
      "1  561488 1 439 468;435:23.70   27.6  1   9 436:23.60   17.7    1   \n",
      "2  374438 1 346 372;342:27.80   24.6  1   9 343:30.10   24.2    1   \n",
      "3  224875 1 449 457;445:22.50   24.1  2  29 446:22.40   22.6    2   \n",
      "4  375396 1 503 532;499:30.00   23.2  0   2 500:42.10   40.5    1   \n",
      "\n",
      "    4 207:26.90  23.90  1.2   7 208:26.60 ...  13 232:39.40  34.20 1.22  \\\n",
      "0  14 490:18.50   25.0    2  18 491:42.40 ...  10 518:39.00   26.3    1   \n",
      "1  14 437:19.70   10.3    2  14 438:14.90 ...  13 470:22.40   17.3    1   \n",
      "2  10 344:29.80   24.3    1  14 345:29.40 ...   3 374:31.00   31.2    1   \n",
      "3  22 447:26.90   24.6    1  23 448:29.60 ...  24 459:34.50   30.8    1   \n",
      "4   1 501:44.60   40.5    1   1 502:44.60 ...   2 534:23.20   21.0    2   \n",
      "\n",
      "   14 233:40.50  29.10.1 1.23   9 234:37.40  30.80 1.24   8  \n",
      "0  12 519:38.20     32.1    1  10 520:38.50   26.2    1  11  \n",
      "1  13 471:21.60     18.3    1  13 472:22.20   20.9    1  11  \n",
      "2   3 375:27.20     28.9    1   4 376:24.00   28.9    2   4  \n",
      "3  22 460:35.60     30.4    1  21 461:35.60   29.9    1  21  \n",
      "4   1 535:22.90     22.5    2   3 536:21.80   21.5    2   3  \n",
      "\n",
      "[5 rows x 76 columns]\n"
     ]
    }
   ],
   "source": [
    "merged_2d = pd.read_csv('input/traffic/merge_1/merged_2d.txt')\n",
    "print (merged_2d.shape) \n",
    "print (merged_2d.head(5))"
   ]
  },
  {
   "cell_type": "code",
   "execution_count": null,
   "metadata": {},
   "outputs": [],
   "source": [
    "merged_4d = pd.read_csv('input/traffic/merge_2/merged_4d.txt')\n",
    "print (merged_4d.shape) \n",
    "print (merged_4d.head(5))"
   ]
  },
  {
   "cell_type": "code",
   "execution_count": null,
   "metadata": {},
   "outputs": [],
   "source": []
  },
  {
   "cell_type": "code",
   "execution_count": null,
   "metadata": {},
   "outputs": [],
   "source": []
  }
 ],
 "metadata": {
  "kernelspec": {
   "display_name": "Python (Scarlett)",
   "language": "python",
   "name": "scarlett"
  },
  "language_info": {
   "codemirror_mode": {
    "name": "ipython",
    "version": 3
   },
   "file_extension": ".py",
   "mimetype": "text/x-python",
   "name": "python",
   "nbconvert_exporter": "python",
   "pygments_lexer": "ipython3",
   "version": "3.6.2"
  }
 },
 "nbformat": 4,
 "nbformat_minor": 4
}
