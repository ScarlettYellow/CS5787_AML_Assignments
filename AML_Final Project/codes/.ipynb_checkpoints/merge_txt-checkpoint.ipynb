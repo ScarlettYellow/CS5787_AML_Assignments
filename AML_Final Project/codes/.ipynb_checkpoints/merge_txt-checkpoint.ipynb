{
 "cells": [
  {
   "cell_type": "code",
   "execution_count": null,
   "metadata": {},
   "outputs": [],
   "source": [
    "import pandas as pd\n",
    "import numpy as np\n",
    "import importlib\n",
    "import sys\n",
    "importlib.reload(sys)\n",
    "import os\n",
    "import os.path\n",
    "import time\n",
    "time0=time.time()"
   ]
  },
  {
   "cell_type": "code",
   "execution_count": null,
   "metadata": {},
   "outputs": [],
   "source": [
    "# Merge multiple .txt files under the same folder.\n",
    "\n",
    "def merge_txt(file_path,merged_file):\n",
    "    file = open(file_path+merged_file, 'a+')\n",
    "    for parent, dirnames, filenames in os.walk(file_path):\n",
    "        for file_path in filenames:\n",
    "            txt_Path = os.path.join(parent, file_path)  # Txtpath is the path to all files\n",
    "            f = open(txt_Path)\n",
    "            # newline\n",
    "            file.write(f.read()+\"\\n\")\n",
    "    file.close()\n",
    "    print (\"Completed!\")"
   ]
  },
  {
   "cell_type": "code",
   "execution_count": null,
   "metadata": {},
   "outputs": [],
   "source": [
    "# merge two days, 2020/07/03, 2020/07/10\n",
    "\n",
    "if __name__ == '__main__':\n",
    "    file_path=\"input/traffic/merge_1/\"\n",
    "    merged_file=\"merged_2d.txt\"\n",
    "    merge_txt(file_path,merged_file)\n",
    "    time1 = time.time()\n",
    "    print (u'Time consumed：' + str(time1 - time0) + 's')"
   ]
  },
  {
   "cell_type": "code",
   "execution_count": null,
   "metadata": {},
   "outputs": [],
   "source": [
    "# merge four days, 2020/07/03, 2020/07/10, 2020/07/17, 2020/07/24\n",
    "\n",
    "if __name__ == '__main__':\n",
    "    file_path=\"input/traffic/merge_2/\"\n",
    "    merged_file=\"merged_4d.txt\"\n",
    "    merge_txt(file_path,merged_file)\n",
    "    time1 = time.time()\n",
    "    print (u'Time consumed：' + str(time1 - time0) + 's')"
   ]
  },
  {
   "cell_type": "code",
   "execution_count": null,
   "metadata": {},
   "outputs": [],
   "source": [
    "merged_2d = pd.read_csv('input/traffic/merge_1/merged_2d.txt')\n",
    "print (merged_2d.shape) \n",
    "print (merged_2d.head(5))"
   ]
  },
  {
   "cell_type": "code",
   "execution_count": null,
   "metadata": {},
   "outputs": [],
   "source": [
    "merged_4d = pd.read_csv('input/traffic/merge_2/merged_4d.txt')\n",
    "print (merged_4d.shape) \n",
    "print (merged_4d.head(5))"
   ]
  },
  {
   "cell_type": "code",
   "execution_count": null,
   "metadata": {},
   "outputs": [],
   "source": []
  },
  {
   "cell_type": "code",
   "execution_count": null,
   "metadata": {},
   "outputs": [],
   "source": []
  }
 ],
 "metadata": {
  "kernelspec": {
   "display_name": "Python (Scarlett)",
   "language": "python",
   "name": "scarlett"
  },
  "language_info": {
   "codemirror_mode": {
    "name": "ipython",
    "version": 3
   },
   "file_extension": ".py",
   "mimetype": "text/x-python",
   "name": "python",
   "nbconvert_exporter": "python",
   "pygments_lexer": "ipython3",
   "version": "3.6.2"
  }
 },
 "nbformat": 4,
 "nbformat_minor": 4
}
