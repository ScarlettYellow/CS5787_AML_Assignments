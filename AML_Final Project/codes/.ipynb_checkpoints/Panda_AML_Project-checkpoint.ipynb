{
 "cells": [
  {
   "cell_type": "code",
   "execution_count": null,
   "metadata": {},
   "outputs": [],
   "source": [
    "import numpy as np\n",
    "import pandas as pd\n",
    "from sklearn.feature_extraction.text import CountVectorizer\n",
    "\n",
    "dataset = pd.read_csv('data/traffic.csv')[:10000]\n",
    "target_col = dataset[\"label\"]"
   ]
  },
  {
   "cell_type": "code",
   "execution_count": null,
   "metadata": {},
   "outputs": [],
   "source": [
    "dataset.shape"
   ]
  },
  {
   "cell_type": "code",
   "execution_count": null,
   "metadata": {},
   "outputs": [],
   "source": [
    "dataset.head(5)"
   ]
  },
  {
   "cell_type": "code",
   "execution_count": null,
   "metadata": {},
   "outputs": [],
   "source": [
    "test = pd.read_csv('data/history_feature_7_1.csv')\n",
    "test.shape "
   ]
  },
  {
   "cell_type": "code",
   "execution_count": null,
   "metadata": {},
   "outputs": [],
   "source": [
    "train = dataset.sample(frac = 0.7)\n",
    "dev = dataset.drop(train.index)\n",
    "print(train.shape)\n",
    "print(dev.shape)\n",
    "# train_X.to_csv('preprocessing/train2.csv', index=False)\n",
    "# dev.to_csv('preprocessing/dev.csv', index = False)"
   ]
  },
  {
   "cell_type": "code",
   "execution_count": null,
   "metadata": {},
   "outputs": [],
   "source": [
    "print(train.columns)"
   ]
  },
  {
   "cell_type": "code",
   "execution_count": null,
   "metadata": {},
   "outputs": [],
   "source": [
    "train_Y = train[\"label\"].to_numpy()\n",
    "dev_Y = dev[\"label\"].to_numpy()\n",
    "\n",
    "train_X = train.drop(columns=['label']).to_numpy()\n",
    "dev_X = dev.drop(columns=['label']).to_numpy()"
   ]
  },
  {
   "cell_type": "code",
   "execution_count": null,
   "metadata": {},
   "outputs": [],
   "source": [
    "print(train_Y.shape)\n",
    "print(dev_Y.shape)"
   ]
  },
  {
   "cell_type": "raw",
   "metadata": {},
   "source": [
    "from sklearn.svm import LinearSVC\n",
    "from sklearn.metrics import f1_score\n",
    "\n",
    "f1_list = []\n",
    "ci_list = [0.01, 0.1, 1, 10, 100]\n",
    "\n",
    "for ci in ci_list:\n",
    "    lsvc = LinearSVC(C = ci, max_iter = 100000)\n",
    "    lsvc.fit(train_X, train_Y)\n",
    "    pred_dev = lsvc.predict(dev_X)\n",
    "    y_true = dev_Y\n",
    "#     print(y_true)\n",
    "#     print(pred_dev)\n",
    "    score = f1_score(y_true, pred_dev, average=None)\n",
    "    f1_list.append(score[0])\n",
    "    \n",
    "print(f1_list)"
   ]
  }
 ],
 "metadata": {
  "kernelspec": {
   "display_name": "Python 3",
   "language": "python",
   "name": "python3"
  },
  "language_info": {
   "codemirror_mode": {
    "name": "ipython",
    "version": 3
   },
   "file_extension": ".py",
   "mimetype": "text/x-python",
   "name": "python",
   "nbconvert_exporter": "python",
   "pygments_lexer": "ipython3",
   "version": "3.8.3"
  }
 },
 "nbformat": 4,
 "nbformat_minor": 4
}
