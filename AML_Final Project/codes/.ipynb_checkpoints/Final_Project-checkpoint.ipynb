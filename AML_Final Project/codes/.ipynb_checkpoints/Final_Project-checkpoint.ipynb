{
 "cells": [
  {
   "cell_type": "code",
   "execution_count": 1,
   "metadata": {},
   "outputs": [],
   "source": [
    "import pandas as pd\n",
    "import numpy as np\n",
    "import matplotlib.pyplot as plt"
   ]
  },
  {
   "cell_type": "code",
   "execution_count": 6,
   "metadata": {},
   "outputs": [],
   "source": [
    "data = pd.read_table(\"data/test.txt\",sep='\\t',header=None)"
   ]
  },
  {
   "cell_type": "code",
   "execution_count": 8,
   "metadata": {},
   "outputs": [
    {
     "name": "stdout",
     "output_type": "stream",
     "text": [
      "<bound method NDFrame.describe of                                                         0\n",
      "0       106984 -1 616 640;612:28.10,36.80,1,21 613:30....\n",
      "1       33252 -1 327 343;323:23.30,23.00,2,2 324:22.90...\n",
      "2       528890 -1 579 598;575:37.60,48.10,1,21 576:37....\n",
      "3       321454 -1 140 169;136:45.60,31.50,1,6 137:43.5...\n",
      "4       513463 -1 204 206;200:42.90,46.60,1,8 201:42.3...\n",
      "...                                                   ...\n",
      "504886  323321 -1 74 95;70:35.90,38.40,1,1 71:28.30,21...\n",
      "504887  310389 -1 97 110;93:29.60,24.00,1,19 94:33.20,...\n",
      "504888  12536 -1 256 282;252:20.70,25.30,1,3 253:25.70...\n",
      "504889  359102 -1 451 459;447:52.50,47.30,1,103 448:48...\n",
      "504890  226212 -1 378 385;374:34.90,48.40,1,2 375:28.8...\n",
      "\n",
      "[504891 rows x 1 columns]>\n",
      "Int64Index([0], dtype='int64')\n",
      "                                                   0\n",
      "0  106984 -1 616 640;612:28.10,36.80,1,21 613:30....\n",
      "1  33252 -1 327 343;323:23.30,23.00,2,2 324:22.90...\n",
      "2  528890 -1 579 598;575:37.60,48.10,1,21 576:37....\n",
      "3  321454 -1 140 169;136:45.60,31.50,1,6 137:43.5...\n",
      "4  513463 -1 204 206;200:42.90,46.60,1,8 201:42.3...\n",
      "(504891, 1)\n"
     ]
    }
   ],
   "source": [
    "# explore data\n",
    "print (data.describe)\n",
    "print (data.columns)\n",
    "print (data.head(5))\n",
    "print (data.shape)"
   ]
  },
  {
   "cell_type": "code",
   "execution_count": 9,
   "metadata": {},
   "outputs": [
    {
     "name": "stdout",
     "output_type": "stream",
     "text": [
      "Int64Index([0], dtype='int64')\n"
     ]
    }
   ],
   "source": [
    "print (data.columns)"
   ]
  },
  {
   "cell_type": "code",
   "execution_count": null,
   "metadata": {},
   "outputs": [],
   "source": []
  },
  {
   "cell_type": "code",
   "execution_count": null,
   "metadata": {},
   "outputs": [],
   "source": []
  },
  {
   "cell_type": "code",
   "execution_count": null,
   "metadata": {},
   "outputs": [],
   "source": []
  },
  {
   "cell_type": "code",
   "execution_count": null,
   "metadata": {},
   "outputs": [],
   "source": []
  },
  {
   "cell_type": "code",
   "execution_count": null,
   "metadata": {},
   "outputs": [],
   "source": []
  },
  {
   "cell_type": "code",
   "execution_count": null,
   "metadata": {},
   "outputs": [],
   "source": []
  },
  {
   "cell_type": "code",
   "execution_count": null,
   "metadata": {},
   "outputs": [],
   "source": []
  },
  {
   "cell_type": "code",
   "execution_count": null,
   "metadata": {},
   "outputs": [],
   "source": []
  },
  {
   "cell_type": "code",
   "execution_count": null,
   "metadata": {},
   "outputs": [],
   "source": []
  },
  {
   "cell_type": "code",
   "execution_count": null,
   "metadata": {},
   "outputs": [],
   "source": []
  },
  {
   "cell_type": "code",
   "execution_count": null,
   "metadata": {},
   "outputs": [],
   "source": []
  },
  {
   "cell_type": "code",
   "execution_count": null,
   "metadata": {},
   "outputs": [],
   "source": []
  }
 ],
 "metadata": {
  "kernelspec": {
   "display_name": "Python 3",
   "language": "python",
   "name": "python3"
  },
  "language_info": {
   "codemirror_mode": {
    "name": "ipython",
    "version": 3
   },
   "file_extension": ".py",
   "mimetype": "text/x-python",
   "name": "python",
   "nbconvert_exporter": "python",
   "pygments_lexer": "ipython3",
   "version": "3.8.3"
  }
 },
 "nbformat": 4,
 "nbformat_minor": 4
}
