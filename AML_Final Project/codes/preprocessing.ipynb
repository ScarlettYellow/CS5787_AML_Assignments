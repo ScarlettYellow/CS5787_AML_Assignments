{
 "cells": [
  {
   "cell_type": "code",
   "execution_count": 1,
   "metadata": {},
   "outputs": [],
   "source": [
    "import numpy as np\n",
    "import pandas as pd\n",
    "from tqdm import tqdm\n",
    "from collections import Counter\n",
    "import os\n",
    "import datetime\n",
    "import warnings\n",
    "warnings.filterwarnings(\"ignore\")"
   ]
  },
  {
   "cell_type": "code",
   "execution_count": 2,
   "metadata": {},
   "outputs": [],
   "source": [
    "def get_base_info(x):\n",
    "    return [i.split(\":\")[-1] for i in x.split(\" \")]\n",
    "\n",
    "def get_road_speed(x):\n",
    "    return np.array([i.split(\",\")[0] for i in x],dtype='float16')\n",
    "\n",
    "def get_eta_speed(x):\n",
    "    return np.array([i.split(\",\")[1] for i in x],dtype=\"float16\")\n",
    "\n",
    "def get_road_state(x):\n",
    "    return np.array([i.split(\",\")[2] for i in x])\n",
    "\n",
    "def get_cnt(x):\n",
    "    return np.array([i.split(\",\")[3] for i in x],dtype=\"int16\")"
   ]
  },
  {
   "cell_type": "code",
   "execution_count": 3,
   "metadata": {},
   "outputs": [],
   "source": [
    "def get_features(input_file_path_his, input_file_path_attr,input_file_path_topo, mode):\n",
    "    # his\n",
    "    df = pd.read_csv(input_file_path_his, sep=\";\", header=None)\n",
    "    df[\"link\"] = df[0].apply(lambda x: x.split(\" \")[0]).astype(int)\n",
    "    df[\"label\"] = df[0].apply(lambda x: x.split(\" \") [1]).astype(int)\n",
    "    df[\"current_slice_id\"] = df[0].apply(lambda x: x.split(\" \")[2]).astype(int)\n",
    "    df[\"future_slice_id\"] = df[0].apply(lambda x: x.split(\" \")[3]).astype(int)\n",
    "    df[\"time_diff\"] = df[\"future_slice_id\"] - df[\"current_slice_id\"]\n",
    "    df = df.drop([0], axis=1)\n",
    "\n",
    "    if mode == \"dataset\":\n",
    "        df[\"label\"] = df[\"label\"].map(lambda x: 3 if x >= 3 else x)\n",
    "        df['label'] -= 1\n",
    "    else:\n",
    "        df = df.drop([\"label\"], axis=1)\n",
    "\n",
    "    df[\"current_state_last\"] = df[1].apply(lambda x: x.split(\" \")[-1].split(\":\")[-1])\n",
    "    df[\"current_speed\"] = df[\"current_state_last\"].apply(lambda x: x.split(\",\")[0])\n",
    "    df[\"current_eat_speed\"] = df[\"current_state_last\"].apply(lambda x: x.split(\",\")[1])\n",
    "    df[\"current_state\"] = df[\"current_state_last\"].apply(lambda x: x.split(\",\")[2])\n",
    "    df[\"current_count\"] = df[\"current_state_last\"].apply(lambda x: x.split(\",\")[3])\n",
    "    df = df.drop([\"current_state_last\"], axis=1)\n",
    "    for i in tqdm(range(1, 6, 1)):\n",
    "        flag = f\"his_{(6-i)*7}\"\n",
    "        df[\"history_info\"] = df[i].apply(get_base_info)\n",
    "\n",
    "        # road speed\n",
    "        df[\"his_speed\"] = df[\"history_info\"].apply(get_road_speed)\n",
    "        df[f'{flag}_speed_mean'] = df[\"his_speed\"].apply(lambda x: x.mean())\n",
    "\n",
    "        # eta speed\n",
    "        df[\"his_eta\"] = df[\"history_info\"].apply(get_eta_speed)\n",
    "        df[f\"{flag}_eta_mean\"] = df[\"his_eta\"].apply(lambda x: x.mean())\n",
    "\n",
    "        # road state\n",
    "        df[\"his_state\"] = df[\"history_info\"].apply(get_road_state)\n",
    "        df[f\"{flag}_state_max\"] = df[\"his_state\"].apply(lambda x: Counter(x).most_common()[0][0])\n",
    "        df[f\"{flag}_state_min\"] = df[\"his_state\"].apply(lambda x: Counter(x).most_common()[-1][0])\n",
    "\n",
    "        # cnt: car number count\n",
    "        df[\"his_cnt\"] = df[\"history_info\"].apply(get_cnt)\n",
    "        df[f\"{flag}_cnt_mean\"] = df[\"his_cnt\"].apply(lambda x: x.mean())\n",
    "        df = df.drop([i, \"history_info\", \"his_speed\", \"his_eta\", \"his_state\", \"his_cnt\"], axis=1)\n",
    "        # break\n",
    "\n",
    "    df2 = pd.read_csv(input_file_path_attr, sep='\\t',\n",
    "                       names=['link', 'length', 'direction', 'path_class', 'speed_class',\n",
    "                              'LaneNum', 'speed_limit', 'level', 'width'], header=None)\n",
    "    df = df.merge(df2, on='link', how='left')\n",
    "\n",
    "    if mode ==\"dataset\":\n",
    "        output_file_path =f\"./input/{mode}_{input_file_path_his.split('/')[-1].split('.')[0]}\" +\".csv\"\n",
    "        df.to_csv(output_file_path,index =False,mode='w', header=True)\n",
    "\n",
    "    else:\n",
    "        output_file_path=f\"./input/{input_file_path_his.split('/')[-1].split('.')[0]}\" +\".csv\"\n",
    "        df.to_csv(output_file_path,index = False,mode='w', header=True)"
   ]
  },
  {
   "cell_type": "code",
   "execution_count": 4,
   "metadata": {},
   "outputs": [
    {
     "name": "stdout",
     "output_type": "stream",
     "text": [
      "2020-12-14 13:23:07.584665\n"
     ]
    },
    {
     "name": "stderr",
     "output_type": "stream",
     "text": [
      "100%|██████████| 5/5 [43:03<00:00, 516.63s/it]\n"
     ]
    },
    {
     "name": "stdout",
     "output_type": "stream",
     "text": [
      "2020-12-14 14:14:27.581585\n"
     ]
    }
   ],
   "source": [
    "if __name__ ==\"__main__\":\n",
    "    print(datetime.datetime.now())\n",
    "    # dataset\n",
    "    get_features(input_file_path_his=\"input/traffic/merge_1/merged_2d.txt\",\\\n",
    "                input_file_path_attr=\"input/attr.txt\",\\\n",
    "                input_file_path_topo=\"input/topo.txt\",mode=\"dataset\")\n",
    "    # test set\n",
    "    get_features(input_file_path_his=\"input/test/test.txt\",\\\n",
    "                #input_file_path_attr=\"input/attr.txt\",\\\n",
    "                #input_file_path_topo=\"input/topo.txt\",mode=\"test\")\n",
    "    print(datetime.datetime.now())"
   ]
  },
  {
   "cell_type": "code",
   "execution_count": null,
   "metadata": {},
   "outputs": [],
   "source": []
  },
  {
   "cell_type": "code",
   "execution_count": null,
   "metadata": {},
   "outputs": [],
   "source": []
  },
  {
   "cell_type": "code",
   "execution_count": null,
   "metadata": {},
   "outputs": [],
   "source": []
  },
  {
   "cell_type": "code",
   "execution_count": null,
   "metadata": {},
   "outputs": [],
   "source": []
  },
  {
   "cell_type": "code",
   "execution_count": null,
   "metadata": {},
   "outputs": [],
   "source": []
  },
  {
   "cell_type": "code",
   "execution_count": null,
   "metadata": {},
   "outputs": [],
   "source": []
  },
  {
   "cell_type": "code",
   "execution_count": null,
   "metadata": {},
   "outputs": [],
   "source": []
  },
  {
   "cell_type": "code",
   "execution_count": null,
   "metadata": {},
   "outputs": [],
   "source": []
  },
  {
   "cell_type": "code",
   "execution_count": null,
   "metadata": {},
   "outputs": [],
   "source": []
  }
 ],
 "metadata": {
  "kernelspec": {
   "display_name": "Python (Scarlett)",
   "language": "python",
   "name": "scarlett"
  },
  "language_info": {
   "codemirror_mode": {
    "name": "ipython",
    "version": 3
   },
   "file_extension": ".py",
   "mimetype": "text/x-python",
   "name": "python",
   "nbconvert_exporter": "python",
   "pygments_lexer": "ipython3",
   "version": "3.6.2"
  }
 },
 "nbformat": 4,
 "nbformat_minor": 4
}
